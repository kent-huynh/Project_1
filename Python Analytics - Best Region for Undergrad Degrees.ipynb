{
 "cells": [
  {
   "cell_type": "code",
   "execution_count": 3,
   "metadata": {},
   "outputs": [],
   "source": [
    "# import dependencies\n",
    "import json\n",
    "import pandas as pd\n",
    "import os\n",
    "import csv\n",
    "import numpy\n",
    "import requests\n",
    "import matplotlib.pyplot as plt\n",
    "from pprint import pprint\n",
    "\n",
    "#set up API URL\n",
    "api_key = \"a2rOTe8PfBiJBwTOSlRbteARqAEa0s6DsRyoSOOF\"\n",
    "url = 'https://api.data.gov/ed/collegescorecard/v1/schools.json?'\n",
    "\n",
    "search = 'school.degrees_awarded.predominant=3&_fields=id,school.name,latest.cost.tuition.in_state,latest.cost.tuition.out_of_state,school.region_id,latest.earnings.10_yrs_after_entry.median,latest.earnings.6_yrs_after_entry.median,latest.repayment.5_yr_repayment.completers_rate,latest.repayment.7_yr_repayment.completers_rate,latest.repayment.3_yr_repayment.completers_rate'\n",
    "\n",
    "search_url = url + search + '&api_key=' + api_key\n",
    "\n",
    "response = requests.get(search_url)\n",
    "response_json = response.json()\n"
   ]
  },
  {
   "cell_type": "code",
   "execution_count": 4,
   "metadata": {},
   "outputs": [],
   "source": [
    "# # Store school id, name, regions, etc. in list\n",
    "\n",
    "# school_ids_list = []\n",
    "# schools_list = []\n",
    "# regions_list = []\n",
    "# school_ids_list = []\n",
    "# tuition_in_state_list = []\n",
    "# tuition_out_state_list = []\n",
    "# list_earnings_10_yrs_after_entry = []\n",
    "# list_earnings_6_yrs_after_entry = []\n",
    "\n",
    "# for page in range (0,105):\n",
    "#     search_url = f'{url}{search}&page={page}&api_key={api_key}'\n",
    "#     response = requests.get(search_url)\n",
    "#     response_json = response.json()\n",
    "       \n",
    "#     for num in range(0,20):\n",
    "#         school_id = response_json['results'][num]['id']\n",
    "#         school_ids_list.append(school_id)\n",
    "#         school_name = response_json['results'][num]['school.name']\n",
    "#         schools_list.append(school_name)  \n",
    "#         region_id = response_json['results'][num]['school.region_id']\n",
    "#         regions_list.append(region_id)              \n",
    "#         tuition_in = response_json['results'][num]['latest.cost.tuition.in_state']\n",
    "#         tuition_in_state_list.append(tuition_in)  \n",
    "#         tuition_out = response_json['results'][num]['latest.cost.tuition.out_of_state']\n",
    "#         tuition_out_state_list.append(tuition_out)\n",
    "#         earnings_10yrs_after = response_json['results'][num]['latest.earnings.10_yrs_after_entry.median']\n",
    "#         earnings_6yrs_after = response_json['results'][num]['latest.earnings.6_yrs_after_entry.median']\n",
    "#         list_earnings_10_yrs_after_entry.append(earnings_10yrs_after)\n",
    "#         list_earnings_6_yrs_after_entry.append(earnings_6yrs_after)\n",
    "\n",
    "# # set up school info in dataframe and export to CSV \n",
    "# schoolinfo_df = pd.DataFrame({\n",
    "#     \"school_id\": school_ids_list,\n",
    "#     \"school\": schools_list,\n",
    "#     \"region\": regions_list,\n",
    "#     \"tuition_in_state\": tuition_in_state_list,\n",
    "#     \"tuition_out_state\": tuition_out_state_list,\n",
    "#     \"earnings6years\": list_earnings_6_yrs_after_entry,\n",
    "#     \"earnings10years\": list_earnings_10_yrs_after_entry,\n",
    "# })\n",
    "\n",
    "# schoolinfo_df.to_csv(\"cost_earnings_stat_final.csv\", index=False, header=True)\n",
    "\n",
    "\n",
    "                \n",
    "            \n"
   ]
  },
  {
   "cell_type": "code",
   "execution_count": 5,
   "metadata": {},
   "outputs": [
    {
     "data": {
      "text/html": [
       "<div>\n",
       "<style scoped>\n",
       "    .dataframe tbody tr th:only-of-type {\n",
       "        vertical-align: middle;\n",
       "    }\n",
       "\n",
       "    .dataframe tbody tr th {\n",
       "        vertical-align: top;\n",
       "    }\n",
       "\n",
       "    .dataframe thead th {\n",
       "        text-align: right;\n",
       "    }\n",
       "</style>\n",
       "<table border=\"1\" class=\"dataframe\">\n",
       "  <thead>\n",
       "    <tr style=\"text-align: right;\">\n",
       "      <th></th>\n",
       "      <th>school_id</th>\n",
       "      <th>school</th>\n",
       "      <th>region</th>\n",
       "      <th>tuition_in_state</th>\n",
       "      <th>tuition_out_state</th>\n",
       "      <th>earnings6years</th>\n",
       "      <th>earnings10years</th>\n",
       "    </tr>\n",
       "  </thead>\n",
       "  <tbody>\n",
       "    <tr>\n",
       "      <th>0</th>\n",
       "      <td>445188</td>\n",
       "      <td>University of California-Merced</td>\n",
       "      <td>8</td>\n",
       "      <td>13262.0</td>\n",
       "      <td>39944.0</td>\n",
       "      <td>36900.0</td>\n",
       "      <td>NaN</td>\n",
       "    </tr>\n",
       "    <tr>\n",
       "      <th>1</th>\n",
       "      <td>446792</td>\n",
       "      <td>Sanford-Brown College-Las Vegas</td>\n",
       "      <td>8</td>\n",
       "      <td>NaN</td>\n",
       "      <td>NaN</td>\n",
       "      <td>23500.0</td>\n",
       "      <td>29300.0</td>\n",
       "    </tr>\n",
       "    <tr>\n",
       "      <th>2</th>\n",
       "      <td>446808</td>\n",
       "      <td>Sanford-Brown College-Seattle</td>\n",
       "      <td>8</td>\n",
       "      <td>NaN</td>\n",
       "      <td>NaN</td>\n",
       "      <td>23500.0</td>\n",
       "      <td>29300.0</td>\n",
       "    </tr>\n",
       "    <tr>\n",
       "      <th>3</th>\n",
       "      <td>446048</td>\n",
       "      <td>Ave Maria University</td>\n",
       "      <td>5</td>\n",
       "      <td>19128.0</td>\n",
       "      <td>19128.0</td>\n",
       "      <td>29800.0</td>\n",
       "      <td>32800.0</td>\n",
       "    </tr>\n",
       "    <tr>\n",
       "      <th>4</th>\n",
       "      <td>446668</td>\n",
       "      <td>The Art Institute of Ohio-Cincinnati</td>\n",
       "      <td>3</td>\n",
       "      <td>NaN</td>\n",
       "      <td>NaN</td>\n",
       "      <td>27200.0</td>\n",
       "      <td>34100.0</td>\n",
       "    </tr>\n",
       "  </tbody>\n",
       "</table>\n",
       "</div>"
      ],
      "text/plain": [
       "   school_id                                school  region  tuition_in_state  \\\n",
       "0     445188       University of California-Merced       8           13262.0   \n",
       "1     446792       Sanford-Brown College-Las Vegas       8               NaN   \n",
       "2     446808         Sanford-Brown College-Seattle       8               NaN   \n",
       "3     446048                  Ave Maria University       5           19128.0   \n",
       "4     446668  The Art Institute of Ohio-Cincinnati       3               NaN   \n",
       "\n",
       "   tuition_out_state  earnings6years  earnings10years  \n",
       "0            39944.0         36900.0              NaN  \n",
       "1                NaN         23500.0          29300.0  \n",
       "2                NaN         23500.0          29300.0  \n",
       "3            19128.0         29800.0          32800.0  \n",
       "4                NaN         27200.0          34100.0  "
      ]
     },
     "execution_count": 5,
     "metadata": {},
     "output_type": "execute_result"
    }
   ],
   "source": [
    "region_stats = pd.read_csv('cost_earnings_stat_final.csv')\n",
    "region_stats.head()"
   ]
  },
  {
   "cell_type": "code",
   "execution_count": 6,
   "metadata": {},
   "outputs": [],
   "source": [
    "#drop rows that are incomplete to avoid calculation errors\n",
    "rs_dropna = region_stats.dropna()\n",
    "rs_dropreset = rs_dropna.reset_index()"
   ]
  },
  {
   "cell_type": "code",
   "execution_count": 7,
   "metadata": {
    "scrolled": true
   },
   "outputs": [
    {
     "data": {
      "text/html": [
       "<div>\n",
       "<style scoped>\n",
       "    .dataframe tbody tr th:only-of-type {\n",
       "        vertical-align: middle;\n",
       "    }\n",
       "\n",
       "    .dataframe tbody tr th {\n",
       "        vertical-align: top;\n",
       "    }\n",
       "\n",
       "    .dataframe thead th {\n",
       "        text-align: right;\n",
       "    }\n",
       "</style>\n",
       "<table border=\"1\" class=\"dataframe\">\n",
       "  <thead>\n",
       "    <tr style=\"text-align: right;\">\n",
       "      <th></th>\n",
       "      <th>tuition_in_state</th>\n",
       "      <th>tuition_out_state</th>\n",
       "      <th>earnings6years</th>\n",
       "      <th>earnings10years</th>\n",
       "      <th>earnings_cost_ratio</th>\n",
       "    </tr>\n",
       "    <tr>\n",
       "      <th>region</th>\n",
       "      <th></th>\n",
       "      <th></th>\n",
       "      <th></th>\n",
       "      <th></th>\n",
       "      <th></th>\n",
       "    </tr>\n",
       "  </thead>\n",
       "  <tbody>\n",
       "    <tr>\n",
       "      <th>1</th>\n",
       "      <td>30432.262069</td>\n",
       "      <td>33810.744828</td>\n",
       "      <td>39262.758621</td>\n",
       "      <td>49565.517241</td>\n",
       "      <td>1.290169</td>\n",
       "    </tr>\n",
       "    <tr>\n",
       "      <th>2</th>\n",
       "      <td>26268.746835</td>\n",
       "      <td>29195.623418</td>\n",
       "      <td>37508.860759</td>\n",
       "      <td>48172.151899</td>\n",
       "      <td>1.427889</td>\n",
       "    </tr>\n",
       "    <tr>\n",
       "      <th>3</th>\n",
       "      <td>23815.112782</td>\n",
       "      <td>26737.172932</td>\n",
       "      <td>35620.300752</td>\n",
       "      <td>43248.120301</td>\n",
       "      <td>1.495702</td>\n",
       "    </tr>\n",
       "    <tr>\n",
       "      <th>4</th>\n",
       "      <td>20668.689474</td>\n",
       "      <td>22714.278947</td>\n",
       "      <td>35272.105263</td>\n",
       "      <td>41908.947368</td>\n",
       "      <td>1.706548</td>\n",
       "    </tr>\n",
       "    <tr>\n",
       "      <th>5</th>\n",
       "      <td>18446.201389</td>\n",
       "      <td>22543.636574</td>\n",
       "      <td>31878.935185</td>\n",
       "      <td>39556.250000</td>\n",
       "      <td>1.728211</td>\n",
       "    </tr>\n",
       "    <tr>\n",
       "      <th>6</th>\n",
       "      <td>16691.337931</td>\n",
       "      <td>21137.531034</td>\n",
       "      <td>34611.724138</td>\n",
       "      <td>41764.137931</td>\n",
       "      <td>2.073634</td>\n",
       "    </tr>\n",
       "    <tr>\n",
       "      <th>7</th>\n",
       "      <td>14733.661017</td>\n",
       "      <td>21206.762712</td>\n",
       "      <td>33837.288136</td>\n",
       "      <td>41572.881356</td>\n",
       "      <td>2.296597</td>\n",
       "    </tr>\n",
       "    <tr>\n",
       "      <th>8</th>\n",
       "      <td>24406.627778</td>\n",
       "      <td>29136.066667</td>\n",
       "      <td>37570.000000</td>\n",
       "      <td>47940.555556</td>\n",
       "      <td>1.539336</td>\n",
       "    </tr>\n",
       "  </tbody>\n",
       "</table>\n",
       "</div>"
      ],
      "text/plain": [
       "        tuition_in_state  tuition_out_state  earnings6years  earnings10years  \\\n",
       "region                                                                         \n",
       "1           30432.262069       33810.744828    39262.758621     49565.517241   \n",
       "2           26268.746835       29195.623418    37508.860759     48172.151899   \n",
       "3           23815.112782       26737.172932    35620.300752     43248.120301   \n",
       "4           20668.689474       22714.278947    35272.105263     41908.947368   \n",
       "5           18446.201389       22543.636574    31878.935185     39556.250000   \n",
       "6           16691.337931       21137.531034    34611.724138     41764.137931   \n",
       "7           14733.661017       21206.762712    33837.288136     41572.881356   \n",
       "8           24406.627778       29136.066667    37570.000000     47940.555556   \n",
       "\n",
       "        earnings_cost_ratio  \n",
       "region                       \n",
       "1                  1.290169  \n",
       "2                  1.427889  \n",
       "3                  1.495702  \n",
       "4                  1.706548  \n",
       "5                  1.728211  \n",
       "6                  2.073634  \n",
       "7                  2.296597  \n",
       "8                  1.539336  "
      ]
     },
     "execution_count": 7,
     "metadata": {},
     "output_type": "execute_result"
    }
   ],
   "source": [
    "#create summary table for all region aggregate \n",
    "grouped_region_stats = rs_dropreset.groupby(['region']).mean()\n",
    "region_mean = grouped_region_stats.drop(columns=[\"index\", \"school_id\"])\n",
    "region_mean['earnings_cost_ratio'] = region_mean['earnings6years']/region_mean['tuition_in_state']\n",
    "region_mean\n",
    "\n",
    "#drop region 0 and 9\n",
    "mean_df_clean = region_mean.drop([0,9])\n",
    "mean_df_clean"
   ]
  },
  {
   "cell_type": "markdown",
   "metadata": {},
   "source": [
    "# AVERAGE TUITION AND EARNINGS PER REGION PLOT"
   ]
  },
  {
   "cell_type": "code",
   "execution_count": 8,
   "metadata": {},
   "outputs": [
    {
     "data": {
      "text/plain": [
       "<matplotlib.legend.Legend at 0x1cf69d91198>"
      ]
     },
     "execution_count": 8,
     "metadata": {},
     "output_type": "execute_result"
    },
    {
     "data": {
      "image/png": "[encoded data removed]",
      "text/plain": [
       "<Figure size 432x288 with 1 Axes>"
      ]
     },
     "metadata": {},
     "output_type": "display_data"
    }
   ],
   "source": [
    "#average (region, tuition) & (region, earnings6years)\n",
    "y1 = mean_df_clean[\"tuition_in_state\"]\n",
    "y2 = mean_df_clean[\"earnings6years\"]\n",
    "\n",
    "x_axis = [x for x in range(1,9)]\n",
    "x_axis2 = [x+0.3 for x in range(1,9)]\n",
    "\n",
    "plt.bar(x_axis, y1, width = 0.3, label=\"Tuition\" )\n",
    "plt.bar(x_axis2, y2, width = 0.3, label=\"Earnings\")\n",
    "\n",
    "plt.title(\"Tuition and Earnings per Region\")\n",
    "plt.xlabel(\"Region\")\n",
    "plt.ylabel(\"Average Tuition & Earnings ($)\")\n",
    "plt.legend(title=[\"Legend\"])\n",
    "plt.legend(bbox_to_anchor=(1.05, 1), loc=2, borderaxespad=0.)\n",
    "#save fig\n",
    "#plt.savefig(\"Plots/Tuition&EarningsPerRegion.png\")"
   ]
  },
  {
   "cell_type": "markdown",
   "metadata": {},
   "source": [
    "# Earnings-cost ratio per region"
   ]
  },
  {
   "cell_type": "code",
   "execution_count": 9,
   "metadata": {},
   "outputs": [
    {
     "data": {
      "text/plain": [
       "<matplotlib.legend.Legend at 0x1cf69e7ba90>"
      ]
     },
     "execution_count": 9,
     "metadata": {},
     "output_type": "execute_result"
    },
    {
     "data": {
      "image/png": "[encoded data removed]",
      "text/plain": [
       "<Figure size 432x288 with 1 Axes>"
      ]
     },
     "metadata": {},
     "output_type": "display_data"
    }
   ],
   "source": [
    "x_axis = [x for x in range(1,9)]\n",
    "y_axis = mean_df_clean[\"earnings_cost_ratio\"]\n",
    "\n",
    "plt.plot(x_axis, y_axis, 'go--', linewidth=2, markersize=8, color='blue', label=\"Earning-Cost Ratio\")\n",
    "\n",
    "plt.title(\"Earnings/Cost ratio per region ($)\")\n",
    "plt.xlabel(\"Region\")\n",
    "plt.ylabel(\"Earnings/Cost Ratio\")\n",
    "plt.grid()\n",
    "plt.legend(title=[\"\"])\n",
    "plt.legend(bbox_to_anchor=(1.05, 1), loc=2, borderaxespad=0.)\n",
    "#save fig\n",
    "#plt.savefig(\"Plots/Earnings-CostRatioPerRegion.png\")"
   ]
  },
  {
   "cell_type": "code",
   "execution_count": 10,
   "metadata": {},
   "outputs": [
    {
     "data": {
      "text/plain": [
       "[9840.0, 18744.0, 31802.0, 55056.0]"
      ]
     },
     "execution_count": 10,
     "metadata": {},
     "output_type": "execute_result"
    }
   ],
   "source": [
    "#list containing 'bins' for tuition\n",
    "quartile_bins = []\n",
    "\n",
    "#bin_names are given after tuition is binned i.e\n",
    "#the bin_names are up for change\n",
    "bins = [0,10000,18000,32000,100000]\n",
    "bin_names = [\"less_10k\",\"10k_18k\",\"18k_32k\", \"greater_32k\"]\n",
    "\n",
    "#list reference for obtaining min, median, and max tution\n",
    "tuition_list = rs_dropreset['tuition_in_state']\n",
    "\n",
    "#obtain 25th percentile, then append to list\n",
    "twentyfive_Percentile = tuition_list.quantile(0.25)\n",
    "quartile_bins.append(twentyfive_Percentile)\n",
    "\n",
    "#obtain 50th percentile, then append to list\n",
    "fifty_Percentile = tuition_list.quantile(0.50)\n",
    "quartile_bins.append(fifty_Percentile)\n",
    "\n",
    "#obtain 75th percentile, then append to list\n",
    "seventyFive_Percentile = tuition_list.quantile(0.75)\n",
    "quartile_bins.append(seventyFive_Percentile)\n",
    "\n",
    "#obtain 100th percentile, then append to list\n",
    "ninetyNine_Percentile = tuition_list.quantile(1)\n",
    "quartile_bins.append(ninetyNine_Percentile)\n",
    "\n",
    "#print bins list\n",
    "quartile_bins"
   ]
  },
  {
   "cell_type": "code",
   "execution_count": 11,
   "metadata": {},
   "outputs": [],
   "source": [
    "#add Tuition Cost Tier column to dataframe\n",
    "rs_dropreset[\"tuition_cost_tier\"] = pd.cut(rs_dropreset[\"tuition_in_state\"], bins, labels=bin_names)\n",
    "\n",
    "#store variables for ratio calculations\n",
    "cost = rs_dropreset['tuition_in_state']\n",
    "earnings6 = rs_dropreset['earnings6years']\n",
    "earnings10 = rs_dropreset['earnings10years']\n",
    "\n",
    "#add columns for earnings/cost ratio, 6 - 10 year earnings growth ratio\n",
    "rs_dropreset['earnings_cost_ratio'] = earnings6/cost\n",
    "rs_dropreset['earnings_growth_y6_y10'] = earnings10/earnings6\n",
    "rs_dropreset['weighted_growth_to_tuition'] = rs_dropreset['earnings_cost_ratio'] * rs_dropreset['earnings_growth_y6_y10']\n",
    "\n"
   ]
  },
  {
   "cell_type": "code",
   "execution_count": 12,
   "metadata": {},
   "outputs": [],
   "source": [
    "#drop uneccesary columns for analysis\n",
    "clean_info = rs_dropreset.drop(columns=['index', 'school_id', 'tuition_out_state'])\n"
   ]
  },
  {
   "cell_type": "code",
   "execution_count": 13,
   "metadata": {},
   "outputs": [],
   "source": [
    "#organize seperate dataframes by cost tier for plotting + drop region 0 & 9 due to irrelevancy \n",
    "df0_10k = clean_info.loc[clean_info[\"tuition_cost_tier\"] == 'less_10k']\n",
    "df0_10k_edit0 = df0_10k[df0_10k.region != 0]\n",
    "df0_10k_edit9 = df0_10k_edit0[df0_10k_edit0.region != 9]\n",
    "\n",
    "df10_18k = clean_info.loc[clean_info[\"tuition_cost_tier\"] == '10k_18k']\n",
    "df10_18k_edit = df10_18k[df10_18k.region != 9]\n",
    "\n",
    "df18_32 = clean_info.loc[clean_info[\"tuition_cost_tier\"] == '18k_32k']\n",
    "\n",
    "df32 = clean_info.loc[clean_info[\"tuition_cost_tier\"] == 'greater_32k']"
   ]
  },
  {
   "cell_type": "code",
   "execution_count": 14,
   "metadata": {},
   "outputs": [],
   "source": [
    "#aggregate mean value for plotting\n",
    "df0_10k_grouped = df0_10k_edit9.groupby(['region']).mean()\n",
    "\n",
    "df10_18k_grouped = df10_18k_edit.groupby(['region']).mean()\n",
    "\n",
    "df18_32_grouped = df18_32.groupby(['region']).mean()\n",
    "\n",
    "df32_grouped = df32.groupby(['region']).mean()\n"
   ]
  },
  {
   "cell_type": "code",
   "execution_count": 15,
   "metadata": {},
   "outputs": [],
   "source": [
    "#set up lists containing calculated rations for plotting \n",
    "earningscost10k = [earningscost for earningscost in df0_10k_grouped['earnings_cost_ratio']]\n",
    "earningsgrowth10k = [earnings for earnings in df0_10k_grouped['earnings_growth_y6_y10']]\n",
    "weighted_growth10k = [worthit for worthit in df0_10k_grouped['weighted_growth_to_tuition']]\n",
    "\n",
    "earningscost10k_18k = [earningscost for earningscost in df10_18k_grouped['earnings_cost_ratio']]\n",
    "earningsgrowth10k_18k = [earnings for earnings in df10_18k_grouped['earnings_growth_y6_y10']]\n",
    "weighted_growth10k_18k = [worthit for worthit in df10_18k_grouped['weighted_growth_to_tuition']]\n",
    "\n",
    "earningscost18k_32k = [earningscost for earningscost in df18_32_grouped['earnings_cost_ratio']]\n",
    "earningsgrowth18k_32k = [earnings for earnings in df18_32_grouped['earnings_growth_y6_y10']]\n",
    "weighted_growth18k_32k = [worthit for worthit in df18_32_grouped['weighted_growth_to_tuition']]\n",
    "\n",
    "earningscost32k = [earningscost for earningscost in df32_grouped['earnings_cost_ratio']]\n",
    "earningsgrowth32kk = [earnings for earnings in df32_grouped['earnings_growth_y6_y10']]\n",
    "weighted_growth32k = [worthit for worthit in df32_grouped['weighted_growth_to_tuition']]"
   ]
  },
  {
   "cell_type": "code",
   "execution_count": 16,
   "metadata": {},
   "outputs": [
    {
     "data": {
      "text/html": [
       "<div>\n",
       "<style scoped>\n",
       "    .dataframe tbody tr th:only-of-type {\n",
       "        vertical-align: middle;\n",
       "    }\n",
       "\n",
       "    .dataframe tbody tr th {\n",
       "        vertical-align: top;\n",
       "    }\n",
       "\n",
       "    .dataframe thead th {\n",
       "        text-align: right;\n",
       "    }\n",
       "</style>\n",
       "<table border=\"1\" class=\"dataframe\">\n",
       "  <thead>\n",
       "    <tr style=\"text-align: right;\">\n",
       "      <th></th>\n",
       "      <th>tuition_in_state</th>\n",
       "      <th>earnings6years</th>\n",
       "      <th>earnings10years</th>\n",
       "      <th>earnings_cost_ratio</th>\n",
       "      <th>earnings_growth_y6_y10</th>\n",
       "      <th>weighted_growth_to_tuition</th>\n",
       "    </tr>\n",
       "    <tr>\n",
       "      <th>region</th>\n",
       "      <th></th>\n",
       "      <th></th>\n",
       "      <th></th>\n",
       "      <th></th>\n",
       "      <th></th>\n",
       "      <th></th>\n",
       "    </tr>\n",
       "  </thead>\n",
       "  <tbody>\n",
       "    <tr>\n",
       "      <th>1</th>\n",
       "      <td>8503.411765</td>\n",
       "      <td>34794.117647</td>\n",
       "      <td>41794.117647</td>\n",
       "      <td>4.122727</td>\n",
       "      <td>1.199156</td>\n",
       "      <td>4.927779</td>\n",
       "    </tr>\n",
       "    <tr>\n",
       "      <th>2</th>\n",
       "      <td>8057.203390</td>\n",
       "      <td>32432.203390</td>\n",
       "      <td>42828.813559</td>\n",
       "      <td>4.104814</td>\n",
       "      <td>1.315978</td>\n",
       "      <td>5.402779</td>\n",
       "    </tr>\n",
       "    <tr>\n",
       "      <th>3</th>\n",
       "      <td>7995.333333</td>\n",
       "      <td>32464.102564</td>\n",
       "      <td>39920.512821</td>\n",
       "      <td>4.165505</td>\n",
       "      <td>1.232107</td>\n",
       "      <td>5.107863</td>\n",
       "    </tr>\n",
       "    <tr>\n",
       "      <th>4</th>\n",
       "      <td>7555.980000</td>\n",
       "      <td>35282.000000</td>\n",
       "      <td>41696.000000</td>\n",
       "      <td>4.722024</td>\n",
       "      <td>1.182009</td>\n",
       "      <td>5.570131</td>\n",
       "    </tr>\n",
       "    <tr>\n",
       "      <th>5</th>\n",
       "      <td>7417.528000</td>\n",
       "      <td>30712.000000</td>\n",
       "      <td>38174.400000</td>\n",
       "      <td>4.328573</td>\n",
       "      <td>1.244960</td>\n",
       "      <td>5.361041</td>\n",
       "    </tr>\n",
       "    <tr>\n",
       "      <th>6</th>\n",
       "      <td>7437.767857</td>\n",
       "      <td>33580.357143</td>\n",
       "      <td>40396.428571</td>\n",
       "      <td>4.596561</td>\n",
       "      <td>1.212312</td>\n",
       "      <td>5.486618</td>\n",
       "    </tr>\n",
       "    <tr>\n",
       "      <th>7</th>\n",
       "      <td>7120.266667</td>\n",
       "      <td>33053.333333</td>\n",
       "      <td>41603.333333</td>\n",
       "      <td>4.917753</td>\n",
       "      <td>1.261313</td>\n",
       "      <td>6.148850</td>\n",
       "    </tr>\n",
       "    <tr>\n",
       "      <th>8</th>\n",
       "      <td>7448.177778</td>\n",
       "      <td>35982.222222</td>\n",
       "      <td>46977.777778</td>\n",
       "      <td>4.943573</td>\n",
       "      <td>1.322302</td>\n",
       "      <td>6.444753</td>\n",
       "    </tr>\n",
       "  </tbody>\n",
       "</table>\n",
       "</div>"
      ],
      "text/plain": [
       "        tuition_in_state  earnings6years  earnings10years  \\\n",
       "region                                                      \n",
       "1            8503.411765    34794.117647     41794.117647   \n",
       "2            8057.203390    32432.203390     42828.813559   \n",
       "3            7995.333333    32464.102564     39920.512821   \n",
       "4            7555.980000    35282.000000     41696.000000   \n",
       "5            7417.528000    30712.000000     38174.400000   \n",
       "6            7437.767857    33580.357143     40396.428571   \n",
       "7            7120.266667    33053.333333     41603.333333   \n",
       "8            7448.177778    35982.222222     46977.777778   \n",
       "\n",
       "        earnings_cost_ratio  earnings_growth_y6_y10  \\\n",
       "region                                                \n",
       "1                  4.122727                1.199156   \n",
       "2                  4.104814                1.315978   \n",
       "3                  4.165505                1.232107   \n",
       "4                  4.722024                1.182009   \n",
       "5                  4.328573                1.244960   \n",
       "6                  4.596561                1.212312   \n",
       "7                  4.917753                1.261313   \n",
       "8                  4.943573                1.322302   \n",
       "\n",
       "        weighted_growth_to_tuition  \n",
       "region                              \n",
       "1                         4.927779  \n",
       "2                         5.402779  \n",
       "3                         5.107863  \n",
       "4                         5.570131  \n",
       "5                         5.361041  \n",
       "6                         5.486618  \n",
       "7                         6.148850  \n",
       "8                         6.444753  "
      ]
     },
     "execution_count": 16,
     "metadata": {},
     "output_type": "execute_result"
    }
   ],
   "source": [
    "#test group by region\n",
    "df0_10k_grouped"
   ]
  },
  {
   "cell_type": "markdown",
   "metadata": {},
   "source": [
    "# Tiered Earnings/Cost ratio"
   ]
  },
  {
   "cell_type": "code",
   "execution_count": 17,
   "metadata": {},
   "outputs": [
    {
     "data": {
      "text/plain": [
       "<matplotlib.legend.Legend at 0x1cf69f1c860>"
      ]
     },
     "execution_count": 17,
     "metadata": {},
     "output_type": "execute_result"
    },
    {
     "data": {
      "image/png": "[encoded data removed]",
      "text/plain": [
       "<Figure size 432x288 with 1 Axes>"
      ]
     },
     "metadata": {},
     "output_type": "display_data"
    }
   ],
   "source": [
    "#bins = [0,10000,18000,32000,100000]\n",
    "#bin_names = [\"less_10k\",\"10k_18k\",\"18k_32k\", \"greater_32k\"]\n",
    "\n",
    "#(x,y) values for 4 tiers *note x value doesn't change only y does\n",
    "x_axis = [x for x in range(1,9)]\n",
    "y_axis1 = df0_10k_grouped[\"earnings_cost_ratio\"]\n",
    "y_axis2 = df10_18k_grouped[\"earnings_cost_ratio\"]\n",
    "y_axis3 = df18_32_grouped[\"earnings_cost_ratio\"]\n",
    "y_axis4 = df32_grouped[\"earnings_cost_ratio\"]\n",
    "\n",
    "#tiered \n",
    "lessThan10k = plt.plot(x_axis, y_axis1, 'go--', linewidth=2, markersize=8, color='blue', label='lessThan10k')\n",
    "TenKto18k = plt.plot(x_axis, y_axis2, 'go--', linewidth=2, markersize=8, color='green', label='10Kto18k')\n",
    "EighteenTo32k = plt.plot(x_axis, y_axis3, 'go--', linewidth=2, markersize=8, color='yellow', label='18kTo32k')\n",
    "greaterThan32k = plt.plot(x_axis, y_axis4, 'go--', linewidth=2, markersize=8, color='red', label=\">32k\")\n",
    "\n",
    "\n",
    "\n",
    "plt.title(\"Tiered Earnings-Cost ratio per region ($)\")\n",
    "plt.xlabel(\"Region\")\n",
    "plt.ylabel(\"Tiered Earnings-cost Ratio\")\n",
    "plt.grid()\n",
    "plt.legend(title=[\"Tiered Tuitions\"])\n",
    "plt.legend(bbox_to_anchor=(1.05, 1), loc=2, borderaxespad=0.)\n",
    "\n",
    "#save fig\n",
    "#plt.savefig(\"Plots/TieredEarningsCostRatio.png\")"
   ]
  },
  {
   "cell_type": "code",
   "execution_count": 18,
   "metadata": {},
   "outputs": [
    {
     "data": {
      "text/plain": [
       "[1.1991562624181586,\n",
       " 1.315977542277181,\n",
       " 1.2321069493605696,\n",
       " 1.1820089887225371,\n",
       " 1.2449601360084448,\n",
       " 1.212312291577255,\n",
       " 1.2613134900393914,\n",
       " 1.3223019224292007]"
      ]
     },
     "execution_count": 18,
     "metadata": {},
     "output_type": "execute_result"
    }
   ],
   "source": [
    "# test list for earnings growth\n",
    "earningsgrowth10k\n"
   ]
  },
  {
   "cell_type": "code",
   "execution_count": 19,
   "metadata": {},
   "outputs": [
    {
     "data": {
      "text/plain": [
       "[4.927779380165525,\n",
       " 5.402779220093983,\n",
       " 5.107862738909037,\n",
       " 5.570131005292019,\n",
       " 5.361041003682313,\n",
       " 5.4866179419358145,\n",
       " 6.148849933396962,\n",
       " 6.444752579204517]"
      ]
     },
     "execution_count": 19,
     "metadata": {},
     "output_type": "execute_result"
    }
   ],
   "source": [
    "#test list for weighted growth\n",
    "weighted_growth10k"
   ]
  },
  {
   "cell_type": "markdown",
   "metadata": {},
   "source": [
    "# Earnings Growth\n"
   ]
  },
  {
   "cell_type": "code",
   "execution_count": 23,
   "metadata": {},
   "outputs": [
    {
     "data": {
      "text/plain": [
       "<matplotlib.legend.Legend at 0x1cf6b17bac8>"
      ]
     },
     "execution_count": 23,
     "metadata": {},
     "output_type": "execute_result"
    },
    {
     "data": {
      "image/png": "[encoded data removed]",
      "text/plain": [
       "<Figure size 432x288 with 1 Axes>"
      ]
     },
     "metadata": {},
     "output_type": "display_data"
    }
   ],
   "source": [
    "fig = plt.figure()\n",
    "fig.add_subplot()\n",
    "\n",
    "y1 = earningsgrowth10k\n",
    "y2 = earningsgrowth10k_18k\n",
    "y3 = earningsgrowth18k_32k\n",
    "y4 = earningsgrowth32kk\n",
    "\n",
    "x_axis = [x  for x in range(1,9)]\n",
    "x_axis2 = [x + 0.2 for x in range(1,9)]\n",
    "x_axis3 = [x + 0.4for x in range(1,9)]\n",
    "x_axis4 = [x + 0.6 for x in range(1,9)]\n",
    "\n",
    "plt.bar(x_axis, y1, width = 0.2, label='Growth for Tier:10k')\n",
    "plt.bar(x_axis2, y2, width = 0.2, label='Growth for Tier:10k-18k')\n",
    "plt.bar(x_axis3, y3, width = 0.2, label='Growth for Tier:18k-32k')\n",
    "plt.bar(x_axis4, y4, width = 0.2, label='Growth for Tier: 32k')\n",
    "\n",
    "plt.title(\"Earnings Growth years 6-10\")\n",
    "plt.xlabel(\"Region\")\n",
    "plt.ylabel(\"Earnings Growth\")\n",
    "plt.legend(title=[\"Earnings Growth years 6-10\"])\n",
    "plt.legend(bbox_to_anchor=(1.05, 1), loc=2, borderaxespad=0.)\n",
    "\n",
    "#save fig\n",
    "#plt.savefig(\"Plots/Worth_it.png\")"
   ]
  },
  {
   "cell_type": "markdown",
   "metadata": {},
   "source": [
    "# Worth it ratio"
   ]
  },
  {
   "cell_type": "code",
   "execution_count": 72,
   "metadata": {},
   "outputs": [
    {
     "data": {
      "image/png": "[encoded data removed]",
      "text/plain": [
       "<Figure size 432x288 with 1 Axes>"
      ]
     },
     "metadata": {},
     "output_type": "display_data"
    }
   ],
   "source": [
    "#test bar chart for growth mean 10k \n",
    "\n",
    "fig = plt.figure()\n",
    "fig.add_subplot()\n",
    "\n",
    "y1 = weighted_growth10k\n",
    "y2 = weighted_growth10k_18k\n",
    "y3 = weighted_growth18k_32k\n",
    "y4 = weighted_growth32k\n",
    "\n",
    "x_axis = [x  for x in range(1,9)]\n",
    "x_axis2 = [x + 0.2 for x in range(1,9)]\n",
    "x_axis3 = [x + 0.4for x in range(1,9)]\n",
    "x_axis4 = [x + 0.6 for x in range(1,9)]\n",
    "\n",
    "plt.bar(x_axis, y1, width = 0.2)\n",
    "plt.bar(x_axis2, y2, width = 0.2)\n",
    "plt.bar(x_axis3, y3, width = 0.2)\n",
    "plt.bar(x_axis4, y4, width = 0.2)\n",
    "\n",
    "plt.title(\"Weighted Growth per Region\")\n",
    "plt.xlabel(\"Region\")\n",
    "plt.ylabel(\"Weighted Growth ($)\")\n",
    "\n",
    "#save fig\n",
    "#plt.savefig(\"Plots/Worth_it.png\")"
   ]
  },
  {
   "cell_type": "code",
   "execution_count": null,
   "metadata": {},
   "outputs": [],
   "source": []
  }
 ],
 "metadata": {
  "kernelspec": {
   "display_name": "Python 3",
   "language": "python",
   "name": "python3"
  },
  "language_info": {
   "codemirror_mode": {
    "name": "ipython",
    "version": 3
   },
   "file_extension": ".py",
   "mimetype": "text/x-python",
   "name": "python",
   "nbconvert_exporter": "python",
   "pygments_lexer": "ipython3",
   "version": "3.6.6"
  }
 },
 "nbformat": 4,
 "nbformat_minor": 2
}
