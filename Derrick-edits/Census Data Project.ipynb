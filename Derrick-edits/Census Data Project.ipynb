{
 "cells": [
  {
   "cell_type": "code",
   "execution_count": 2,
   "metadata": {},
   "outputs": [],
   "source": [
    "import requests\n",
    "import json\n",
    "import numpy as np\n",
    "import matplotlib.pyplot as plt"
   ]
  },
  {
   "cell_type": "code",
   "execution_count": 22,
   "metadata": {},
   "outputs": [],
   "source": [
    "api_key = \"Ol8GNoMagr7aPceWCUw11EA95LFeZFd4jMg62VTo\"\n",
    "url = \"https://api.census.gov/data/\"\n",
    "dataset_nme = \"timeseries/poverty/saipe/schdist\"\n",
    "#can add more variables if you want \"https://api.census.gov/data/timeseries/poverty/saipe/schdist/variables.html\"\n",
    "variables=\"SAEPOVALL_PT\" \n",
    "predicate_clause = \"&for=\""
   ]
  },
  {
   "cell_type": "code",
   "execution_count": 23,
   "metadata": {},
   "outputs": [
    {
     "name": "stdout",
     "output_type": "stream",
     "text": [
      "https://api.census.gov/data/timeseries/poverty/saipe/schdist?get=STATE,GRADE\n"
     ]
    }
   ],
   "source": [
    "base_url=f\"{url}{dataset_nme}?get={variables}\"\n",
    "print(base_url)"
   ]
  },
  {
   "cell_type": "code",
   "execution_count": null,
   "metadata": {},
   "outputs": [],
   "source": []
  }
 ],
 "metadata": {
  "kernelspec": {
   "display_name": "Python 3",
   "language": "python",
   "name": "python3"
  },
  "language_info": {
   "codemirror_mode": {
    "name": "ipython",
    "version": 3
   },
   "file_extension": ".py",
   "mimetype": "text/x-python",
   "name": "python",
   "nbconvert_exporter": "python",
   "pygments_lexer": "ipython3",
   "version": "3.6.6"
  }
 },
 "nbformat": 4,
 "nbformat_minor": 2
}
