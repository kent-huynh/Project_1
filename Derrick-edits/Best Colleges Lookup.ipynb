{
 "cells": [
  {
   "cell_type": "code",
   "execution_count": 1,
   "metadata": {},
   "outputs": [],
   "source": [
    "import requests\n",
    "import json\n",
    "import numpy as np\n",
    "import matplotlib.pyplot as plt\n",
    "from pprint import pprint"
   ]
  },
  {
   "cell_type": "markdown",
   "metadata": {},
   "source": [
    "example link = \n",
    "https://developer.nrel.gov/api/alt-fuel-stations/v1/nearest.json?api_key=Ol8GNoMagr7aPceWCUw11EA95LFeZFd4jMg62VTo&location=Denver+CO"
   ]
  },
  {
   "cell_type": "code",
   "execution_count": 2,
   "metadata": {},
   "outputs": [],
   "source": [
    "api_key = \"dhgQf6KtNBkVRiiATJzUl86EZUOwzS5vNehyPfXR\"\n",
    "url = 'https://api.data.gov/ed/collegescorecard/v1/schools.json?'\n",
    "#search = 'school.degrees_awarded.predominant=2,3&_fields=id,school.name,2013.student.size'\n",
    "search = 'fields=school.name,id,latest.student.demographics.race_ethnicity.white,latest.student.demographics.race_ethnicity.black,latest.student.demographics.race_ethnicity.hispanic,latest.student.demographics.race_ethnicity.asian,latest.student.demographics.race_ethnicity.aian,latest.student.demographics.race_ethnicity.nhpi,latest.student.demographics.race_ethnicity.two_or_more,latest.student.demographics.race_ethnicity.non_resident_alien,latest.student.demographics.race_ethnicity.unknown,latest.student.demographics.race_ethnicity.white_non_hispanic,latest.student.demographics.race_ethnicity.black_non_hispanic,latest.student.demographics.race_ethnicity.asian_pacific_islander&sort=latest.completion.rate_suppressed.overall:desc'\n"
   ]
  },
  {
   "cell_type": "code",
   "execution_count": 3,
   "metadata": {},
   "outputs": [
    {
     "data": {
      "text/plain": [
       "'https://api.data.gov/ed/collegescorecard/v1/schools.json?fields=school.name,id,latest.student.demographics.race_ethnicity.white,latest.student.demographics.race_ethnicity.black,latest.student.demographics.race_ethnicity.hispanic,latest.student.demographics.race_ethnicity.asian,latest.student.demographics.race_ethnicity.aian,latest.student.demographics.race_ethnicity.nhpi,latest.student.demographics.race_ethnicity.two_or_more,latest.student.demographics.race_ethnicity.non_resident_alien,latest.student.demographics.race_ethnicity.unknown,latest.student.demographics.race_ethnicity.white_non_hispanic,latest.student.demographics.race_ethnicity.black_non_hispanic,latest.student.demographics.race_ethnicity.asian_pacific_islander&sort=latest.completion.rate_suppressed.overall:desc&api_key=dhgQf6KtNBkVRiiATJzUl86EZUOwzS5vNehyPfXR'"
      ]
     },
     "execution_count": 3,
     "metadata": {},
     "output_type": "execute_result"
    }
   ],
   "source": [
    "api_link = url+search+'&api_key='+api_key\n",
    "api_link"
   ]
  },
  {
   "cell_type": "code",
   "execution_count": 4,
   "metadata": {},
   "outputs": [],
   "source": [
    "response = requests.get(api_link)\n",
    "response_json = response.json()\n"
   ]
  },
  {
   "cell_type": "code",
   "execution_count": 5,
   "metadata": {},
   "outputs": [
    {
     "data": {
      "text/plain": [
       "[{'latest.student.demographics.race_ethnicity.non_resident_alien': 0.0,\n",
       "  'latest.student.demographics.race_ethnicity.hispanic': 0.0256,\n",
       "  'latest.student.demographics.race_ethnicity.asian': 0.0,\n",
       "  'latest.student.demographics.race_ethnicity.unknown': 0.0769,\n",
       "  'school.name': 'CAAN Academy of Nursing',\n",
       "  'latest.student.demographics.race_ethnicity.two_or_more': 0.0,\n",
       "  'id': 487968,\n",
       "  'latest.student.demographics.race_ethnicity.black': 0.8974,\n",
       "  'latest.student.demographics.race_ethnicity.aian': 0.0,\n",
       "  'latest.student.demographics.race_ethnicity.nhpi': 0.0,\n",
       "  'latest.student.demographics.race_ethnicity.white': 0.0,\n",
       "  'latest.student.demographics.race_ethnicity.white_non_hispanic': None,\n",
       "  'latest.student.demographics.race_ethnicity.black_non_hispanic': None,\n",
       "  'latest.student.demographics.race_ethnicity.asian_pacific_islander': None},\n",
       " {'latest.student.demographics.race_ethnicity.non_resident_alien': 0.0,\n",
       "  'school.name': 'Central School of Practical Nursing',\n",
       "  'latest.student.demographics.race_ethnicity.two_or_more': 0.0,\n",
       "  'latest.student.demographics.race_ethnicity.black': 0.4242,\n",
       "  'latest.student.demographics.race_ethnicity.aian': 0.0,\n",
       "  'latest.student.demographics.race_ethnicity.nhpi': 0.0,\n",
       "  'latest.student.demographics.race_ethnicity.black_non_hispanic': 0.0,\n",
       "  'latest.student.demographics.race_ethnicity.hispanic': 0.0303,\n",
       "  'latest.student.demographics.race_ethnicity.asian': 0.0303,\n",
       "  'latest.student.demographics.race_ethnicity.unknown': 0.0,\n",
       "  'latest.student.demographics.race_ethnicity.asian_pacific_islander': 0.0,\n",
       "  'id': 231688,\n",
       "  'latest.student.demographics.race_ethnicity.white': 0.5152,\n",
       "  'latest.student.demographics.race_ethnicity.white_non_hispanic': 0.0},\n",
       " {'latest.student.demographics.race_ethnicity.non_resident_alien': 0.0,\n",
       "  'latest.student.demographics.race_ethnicity.hispanic': 0.3091,\n",
       "  'latest.student.demographics.race_ethnicity.asian': 0.0,\n",
       "  'latest.student.demographics.race_ethnicity.unknown': 0.0,\n",
       "  'school.name': 'Med-Life Institute-Naples',\n",
       "  'latest.student.demographics.race_ethnicity.two_or_more': 0.0,\n",
       "  'id': 487834,\n",
       "  'latest.student.demographics.race_ethnicity.black': 0.5273,\n",
       "  'latest.student.demographics.race_ethnicity.aian': 0.0,\n",
       "  'latest.student.demographics.race_ethnicity.nhpi': 0.0,\n",
       "  'latest.student.demographics.race_ethnicity.white': 0.1636,\n",
       "  'latest.student.demographics.race_ethnicity.white_non_hispanic': None,\n",
       "  'latest.student.demographics.race_ethnicity.black_non_hispanic': None,\n",
       "  'latest.student.demographics.race_ethnicity.asian_pacific_islander': None},\n",
       " {'latest.student.demographics.race_ethnicity.non_resident_alien': 0.0,\n",
       "  'school.name': 'Universal Career School',\n",
       "  'latest.student.demographics.race_ethnicity.two_or_more': 0.0,\n",
       "  'latest.student.demographics.race_ethnicity.black': 0.0245,\n",
       "  'latest.student.demographics.race_ethnicity.aian': 0.0,\n",
       "  'latest.student.demographics.race_ethnicity.nhpi': 0.0,\n",
       "  'latest.student.demographics.race_ethnicity.black_non_hispanic': 0.0,\n",
       "  'latest.student.demographics.race_ethnicity.hispanic': 0.9755,\n",
       "  'latest.student.demographics.race_ethnicity.asian': 0.0,\n",
       "  'latest.student.demographics.race_ethnicity.unknown': 0.0,\n",
       "  'latest.student.demographics.race_ethnicity.asian_pacific_islander': 0.0,\n",
       "  'id': 446589,\n",
       "  'latest.student.demographics.race_ethnicity.white': 0.0,\n",
       "  'latest.student.demographics.race_ethnicity.white_non_hispanic': 0.0},\n",
       " {'latest.student.demographics.race_ethnicity.non_resident_alien': 0.0,\n",
       "  'latest.student.demographics.race_ethnicity.hispanic': 0.8,\n",
       "  'latest.student.demographics.race_ethnicity.asian': 0.025,\n",
       "  'latest.student.demographics.race_ethnicity.unknown': 0.0125,\n",
       "  'school.name': 'GDS Institute',\n",
       "  'latest.student.demographics.race_ethnicity.two_or_more': 0.0,\n",
       "  'id': 486099,\n",
       "  'latest.student.demographics.race_ethnicity.black': 0.125,\n",
       "  'latest.student.demographics.race_ethnicity.aian': 0.0,\n",
       "  'latest.student.demographics.race_ethnicity.nhpi': 0.0,\n",
       "  'latest.student.demographics.race_ethnicity.white': 0.0375,\n",
       "  'latest.student.demographics.race_ethnicity.white_non_hispanic': None,\n",
       "  'latest.student.demographics.race_ethnicity.black_non_hispanic': None,\n",
       "  'latest.student.demographics.race_ethnicity.asian_pacific_islander': None},\n",
       " {'latest.student.demographics.race_ethnicity.non_resident_alien': 0.0,\n",
       "  'school.name': 'Careers Unlimited',\n",
       "  'latest.student.demographics.race_ethnicity.two_or_more': 0.0254,\n",
       "  'latest.student.demographics.race_ethnicity.black': 0.0,\n",
       "  'latest.student.demographics.race_ethnicity.aian': 0.0,\n",
       "  'latest.student.demographics.race_ethnicity.nhpi': 0.0085,\n",
       "  'latest.student.demographics.race_ethnicity.black_non_hispanic': 0.0,\n",
       "  'latest.student.demographics.race_ethnicity.hispanic': 0.0763,\n",
       "  'latest.student.demographics.race_ethnicity.asian': 0.0169,\n",
       "  'latest.student.demographics.race_ethnicity.unknown': 0.0,\n",
       "  'latest.student.demographics.race_ethnicity.asian_pacific_islander': 0.0,\n",
       "  'id': 448239,\n",
       "  'latest.student.demographics.race_ethnicity.white': 0.8729,\n",
       "  'latest.student.demographics.race_ethnicity.white_non_hispanic': 0.0},\n",
       " {'latest.student.demographics.race_ethnicity.non_resident_alien': 0.2632,\n",
       "  'school.name': 'Neighborhood Playhouse School of the Theater',\n",
       "  'latest.student.demographics.race_ethnicity.two_or_more': 0.0526,\n",
       "  'latest.student.demographics.race_ethnicity.black': 0.0789,\n",
       "  'latest.student.demographics.race_ethnicity.aian': 0.0132,\n",
       "  'latest.student.demographics.race_ethnicity.nhpi': 0.0,\n",
       "  'latest.student.demographics.race_ethnicity.black_non_hispanic': 0.011,\n",
       "  'latest.student.demographics.race_ethnicity.hispanic': 0.1447,\n",
       "  'latest.student.demographics.race_ethnicity.asian': 0.0132,\n",
       "  'latest.student.demographics.race_ethnicity.unknown': 0.0132,\n",
       "  'latest.student.demographics.race_ethnicity.asian_pacific_islander': 0.0,\n",
       "  'id': 193609,\n",
       "  'latest.student.demographics.race_ethnicity.white': 0.4211,\n",
       "  'latest.student.demographics.race_ethnicity.white_non_hispanic': 0.4725},\n",
       " {'latest.student.demographics.race_ethnicity.non_resident_alien': 0.0,\n",
       "  'latest.student.demographics.race_ethnicity.hispanic': 0.137,\n",
       "  'latest.student.demographics.race_ethnicity.asian': 0.0411,\n",
       "  'latest.student.demographics.race_ethnicity.unknown': 0.0137,\n",
       "  'school.name': 'M T Training Center',\n",
       "  'latest.student.demographics.race_ethnicity.two_or_more': 0.0,\n",
       "  'id': 481003,\n",
       "  'latest.student.demographics.race_ethnicity.black': 0.7534,\n",
       "  'latest.student.demographics.race_ethnicity.aian': 0.0,\n",
       "  'latest.student.demographics.race_ethnicity.nhpi': 0.0,\n",
       "  'latest.student.demographics.race_ethnicity.white': 0.0548,\n",
       "  'latest.student.demographics.race_ethnicity.white_non_hispanic': None,\n",
       "  'latest.student.demographics.race_ethnicity.black_non_hispanic': None,\n",
       "  'latest.student.demographics.race_ethnicity.asian_pacific_islander': None},\n",
       " {'latest.student.demographics.race_ethnicity.non_resident_alien': 0.0,\n",
       "  'latest.student.demographics.race_ethnicity.hispanic': 0.1594,\n",
       "  'latest.student.demographics.race_ethnicity.asian': 0.0,\n",
       "  'latest.student.demographics.race_ethnicity.unknown': 0.0,\n",
       "  'school.name': 'ASI Career Institute',\n",
       "  'latest.student.demographics.race_ethnicity.two_or_more': 0.0,\n",
       "  'id': 475431,\n",
       "  'latest.student.demographics.race_ethnicity.black': 0.2464,\n",
       "  'latest.student.demographics.race_ethnicity.aian': 0.0,\n",
       "  'latest.student.demographics.race_ethnicity.nhpi': 0.0,\n",
       "  'latest.student.demographics.race_ethnicity.white': 0.5942,\n",
       "  'latest.student.demographics.race_ethnicity.white_non_hispanic': None,\n",
       "  'latest.student.demographics.race_ethnicity.black_non_hispanic': None,\n",
       "  'latest.student.demographics.race_ethnicity.asian_pacific_islander': None},\n",
       " {'latest.student.demographics.race_ethnicity.non_resident_alien': 0.0,\n",
       "  'school.name': 'Medical Institute of Palm Beach',\n",
       "  'latest.student.demographics.race_ethnicity.two_or_more': 0.0,\n",
       "  'latest.student.demographics.race_ethnicity.black': 0.1355,\n",
       "  'latest.student.demographics.race_ethnicity.aian': 0.0,\n",
       "  'latest.student.demographics.race_ethnicity.nhpi': 0.0065,\n",
       "  'latest.student.demographics.race_ethnicity.black_non_hispanic': 0.0875,\n",
       "  'latest.student.demographics.race_ethnicity.hispanic': 0.6065,\n",
       "  'latest.student.demographics.race_ethnicity.asian': 0.0129,\n",
       "  'latest.student.demographics.race_ethnicity.unknown': 0.1806,\n",
       "  'latest.student.demographics.race_ethnicity.asian_pacific_islander': 0.0,\n",
       "  'id': 455831,\n",
       "  'latest.student.demographics.race_ethnicity.white': 0.0581,\n",
       "  'latest.student.demographics.race_ethnicity.white_non_hispanic': 0.0},\n",
       " {'latest.student.demographics.race_ethnicity.non_resident_alien': 0.0,\n",
       "  'latest.student.demographics.race_ethnicity.hispanic': 0.2873,\n",
       "  'latest.student.demographics.race_ethnicity.asian': 0.0415,\n",
       "  'latest.student.demographics.race_ethnicity.unknown': 0.0937,\n",
       "  'school.name': 'Manhattan Institute',\n",
       "  'latest.student.demographics.race_ethnicity.two_or_more': 0.023,\n",
       "  'id': 461351,\n",
       "  'latest.student.demographics.race_ethnicity.black': 0.4762,\n",
       "  'latest.student.demographics.race_ethnicity.aian': 0.0,\n",
       "  'latest.student.demographics.race_ethnicity.nhpi': 0.0,\n",
       "  'latest.student.demographics.race_ethnicity.white': 0.0783,\n",
       "  'latest.student.demographics.race_ethnicity.white_non_hispanic': None,\n",
       "  'latest.student.demographics.race_ethnicity.black_non_hispanic': None,\n",
       "  'latest.student.demographics.race_ethnicity.asian_pacific_islander': None},\n",
       " {'latest.student.demographics.race_ethnicity.non_resident_alien': 0.0,\n",
       "  'latest.student.demographics.race_ethnicity.hispanic': 0.3226,\n",
       "  'latest.student.demographics.race_ethnicity.asian': 0.0645,\n",
       "  'latest.student.demographics.race_ethnicity.unknown': 0.0,\n",
       "  'school.name': 'Ukiah Adult School',\n",
       "  'latest.student.demographics.race_ethnicity.two_or_more': 0.0,\n",
       "  'id': 481182,\n",
       "  'latest.student.demographics.race_ethnicity.black': 0.0968,\n",
       "  'latest.student.demographics.race_ethnicity.aian': 0.0,\n",
       "  'latest.student.demographics.race_ethnicity.nhpi': 0.0,\n",
       "  'latest.student.demographics.race_ethnicity.white': 0.5161,\n",
       "  'latest.student.demographics.race_ethnicity.white_non_hispanic': None,\n",
       "  'latest.student.demographics.race_ethnicity.black_non_hispanic': None,\n",
       "  'latest.student.demographics.race_ethnicity.asian_pacific_islander': None},\n",
       " {'latest.student.demographics.race_ethnicity.non_resident_alien': 0.0424,\n",
       "  'school.name': 'Selma University',\n",
       "  'latest.student.demographics.race_ethnicity.two_or_more': 0.0,\n",
       "  'latest.student.demographics.race_ethnicity.black': 0.8364,\n",
       "  'latest.student.demographics.race_ethnicity.aian': 0.0,\n",
       "  'latest.student.demographics.race_ethnicity.nhpi': 0.0,\n",
       "  'latest.student.demographics.race_ethnicity.black_non_hispanic': 1.0,\n",
       "  'latest.student.demographics.race_ethnicity.hispanic': 0.0,\n",
       "  'latest.student.demographics.race_ethnicity.asian': 0.0,\n",
       "  'latest.student.demographics.race_ethnicity.unknown': 0.1212,\n",
       "  'latest.student.demographics.race_ethnicity.asian_pacific_islander': 0.0,\n",
       "  'id': 102058,\n",
       "  'latest.student.demographics.race_ethnicity.white': 0.0,\n",
       "  'latest.student.demographics.race_ethnicity.white_non_hispanic': 0.0},\n",
       " {'latest.student.demographics.race_ethnicity.non_resident_alien': 0.0,\n",
       "  'latest.student.demographics.race_ethnicity.hispanic': 0.8615,\n",
       "  'latest.student.demographics.race_ethnicity.asian': 0.0,\n",
       "  'latest.student.demographics.race_ethnicity.unknown': 0.0,\n",
       "  'school.name': 'Astrodome Career Centers',\n",
       "  'latest.student.demographics.race_ethnicity.two_or_more': 0.0,\n",
       "  'id': 379746,\n",
       "  'latest.student.demographics.race_ethnicity.black': 0.1231,\n",
       "  'latest.student.demographics.race_ethnicity.aian': 0.0,\n",
       "  'latest.student.demographics.race_ethnicity.nhpi': 0.0,\n",
       "  'latest.student.demographics.race_ethnicity.white': 0.0154,\n",
       "  'latest.student.demographics.race_ethnicity.white_non_hispanic': None,\n",
       "  'latest.student.demographics.race_ethnicity.black_non_hispanic': None,\n",
       "  'latest.student.demographics.race_ethnicity.asian_pacific_islander': None},\n",
       " {'latest.student.demographics.race_ethnicity.non_resident_alien': 0.0,\n",
       "  'school.name': 'Capri Beauty College',\n",
       "  'latest.student.demographics.race_ethnicity.two_or_more': 0.0,\n",
       "  'latest.student.demographics.race_ethnicity.black': 0.0213,\n",
       "  'latest.student.demographics.race_ethnicity.aian': 0.0,\n",
       "  'latest.student.demographics.race_ethnicity.nhpi': 0.0213,\n",
       "  'latest.student.demographics.race_ethnicity.black_non_hispanic': 0.0,\n",
       "  'latest.student.demographics.race_ethnicity.hispanic': 0.0426,\n",
       "  'latest.student.demographics.race_ethnicity.asian': 0.0,\n",
       "  'latest.student.demographics.race_ethnicity.unknown': 0.0,\n",
       "  'latest.student.demographics.race_ethnicity.asian_pacific_islander': 0.0,\n",
       "  'id': 457031,\n",
       "  'latest.student.demographics.race_ethnicity.white': 0.9149,\n",
       "  'latest.student.demographics.race_ethnicity.white_non_hispanic': 0.9744},\n",
       " {'latest.student.demographics.race_ethnicity.non_resident_alien': 0.0,\n",
       "  'latest.student.demographics.race_ethnicity.hispanic': 0.0,\n",
       "  'latest.student.demographics.race_ethnicity.asian': 0.0,\n",
       "  'latest.student.demographics.race_ethnicity.unknown': 0.0,\n",
       "  'school.name': 'Profile Institute of Barber-Styling',\n",
       "  'latest.student.demographics.race_ethnicity.two_or_more': 0.0,\n",
       "  'id': 457466,\n",
       "  'latest.student.demographics.race_ethnicity.black': 1.0,\n",
       "  'latest.student.demographics.race_ethnicity.aian': 0.0,\n",
       "  'latest.student.demographics.race_ethnicity.nhpi': 0.0,\n",
       "  'latest.student.demographics.race_ethnicity.white': 0.0,\n",
       "  'latest.student.demographics.race_ethnicity.white_non_hispanic': None,\n",
       "  'latest.student.demographics.race_ethnicity.black_non_hispanic': None,\n",
       "  'latest.student.demographics.race_ethnicity.asian_pacific_islander': None},\n",
       " {'latest.student.demographics.race_ethnicity.non_resident_alien': 0.1,\n",
       "  'school.name': 'Universal College of Healing Arts',\n",
       "  'latest.student.demographics.race_ethnicity.two_or_more': 0.0,\n",
       "  'latest.student.demographics.race_ethnicity.black': 0.0,\n",
       "  'latest.student.demographics.race_ethnicity.aian': 0.0,\n",
       "  'latest.student.demographics.race_ethnicity.nhpi': 0.0,\n",
       "  'latest.student.demographics.race_ethnicity.black_non_hispanic': 0.0,\n",
       "  'latest.student.demographics.race_ethnicity.hispanic': 0.0,\n",
       "  'latest.student.demographics.race_ethnicity.asian': 0.0,\n",
       "  'latest.student.demographics.race_ethnicity.unknown': 0.0,\n",
       "  'latest.student.demographics.race_ethnicity.asian_pacific_islander': 0.0,\n",
       "  'id': 446598,\n",
       "  'latest.student.demographics.race_ethnicity.white': 0.9,\n",
       "  'latest.student.demographics.race_ethnicity.white_non_hispanic': 0.0},\n",
       " {'latest.student.demographics.race_ethnicity.non_resident_alien': 0.0,\n",
       "  'latest.student.demographics.race_ethnicity.hispanic': 0.2632,\n",
       "  'latest.student.demographics.race_ethnicity.asian': 0.0263,\n",
       "  'latest.student.demographics.race_ethnicity.unknown': 0.0,\n",
       "  'school.name': 'W F Kaynor Technical High School',\n",
       "  'latest.student.demographics.race_ethnicity.two_or_more': 0.0,\n",
       "  'id': 417257,\n",
       "  'latest.student.demographics.race_ethnicity.black': 0.2632,\n",
       "  'latest.student.demographics.race_ethnicity.aian': 0.0,\n",
       "  'latest.student.demographics.race_ethnicity.nhpi': 0.0263,\n",
       "  'latest.student.demographics.race_ethnicity.white': 0.4211,\n",
       "  'latest.student.demographics.race_ethnicity.white_non_hispanic': None,\n",
       "  'latest.student.demographics.race_ethnicity.black_non_hispanic': None,\n",
       "  'latest.student.demographics.race_ethnicity.asian_pacific_islander': None},\n",
       " {'latest.student.demographics.race_ethnicity.non_resident_alien': 0.112,\n",
       "  'school.name': 'Harvard University',\n",
       "  'latest.student.demographics.race_ethnicity.two_or_more': 0.0653,\n",
       "  'latest.student.demographics.race_ethnicity.black': 0.0686,\n",
       "  'latest.student.demographics.race_ethnicity.aian': 0.0032,\n",
       "  'latest.student.demographics.race_ethnicity.nhpi': 0.0005,\n",
       "  'latest.student.demographics.race_ethnicity.black_non_hispanic': 0.0741,\n",
       "  'latest.student.demographics.race_ethnicity.hispanic': 0.1111,\n",
       "  'latest.student.demographics.race_ethnicity.asian': 0.1881,\n",
       "  'latest.student.demographics.race_ethnicity.unknown': 0.0216,\n",
       "  'latest.student.demographics.race_ethnicity.asian_pacific_islander': 0.1594,\n",
       "  'id': 166027,\n",
       "  'latest.student.demographics.race_ethnicity.white': 0.4296,\n",
       "  'latest.student.demographics.race_ethnicity.white_non_hispanic': 0.386},\n",
       " {'latest.student.demographics.race_ethnicity.non_resident_alien': 0.0139,\n",
       "  'school.name': \"David's Academy of Beauty\",\n",
       "  'latest.student.demographics.race_ethnicity.two_or_more': 0.0,\n",
       "  'latest.student.demographics.race_ethnicity.black': 0.0417,\n",
       "  'latest.student.demographics.race_ethnicity.aian': 0.0,\n",
       "  'latest.student.demographics.race_ethnicity.nhpi': 0.0,\n",
       "  'latest.student.demographics.race_ethnicity.black_non_hispanic': 0.0,\n",
       "  'latest.student.demographics.race_ethnicity.hispanic': 0.8889,\n",
       "  'latest.student.demographics.race_ethnicity.asian': 0.0278,\n",
       "  'latest.student.demographics.race_ethnicity.unknown': 0.0139,\n",
       "  'latest.student.demographics.race_ethnicity.asian_pacific_islander': 0.0,\n",
       "  'id': 442204,\n",
       "  'latest.student.demographics.race_ethnicity.white': 0.0139,\n",
       "  'latest.student.demographics.race_ethnicity.white_non_hispanic': 0.0}]"
      ]
     },
     "execution_count": 5,
     "metadata": {},
     "output_type": "execute_result"
    }
   ],
   "source": [
    "#filter by results and [x] where x in index for dictionaries ('0' is for the first one, 1 is 2nd etc...)\n",
    "\n",
    "response_json['results']"
   ]
  },
  {
   "cell_type": "code",
   "execution_count": 6,
   "metadata": {},
   "outputs": [
    {
     "data": {
      "text/plain": [
       "20"
      ]
     },
     "execution_count": 6,
     "metadata": {},
     "output_type": "execute_result"
    }
   ],
   "source": [
    "len(response_json['results'])"
   ]
  },
  {
   "cell_type": "code",
   "execution_count": 7,
   "metadata": {},
   "outputs": [],
   "source": [
    "school_list = []\n",
    "\n",
    "for response in response_json:\n",
    "    for num in range(0,20):\n",
    "        school_name = response_json[\"results\"][num]['school.name']\n",
    "        if school_name not in school_list:\n",
    "            school_list.append(school_name)\n",
    "\n",
    "        "
   ]
  },
  {
   "cell_type": "code",
   "execution_count": 8,
   "metadata": {},
   "outputs": [
    {
     "data": {
      "text/plain": [
       "20"
      ]
     },
     "execution_count": 8,
     "metadata": {},
     "output_type": "execute_result"
    }
   ],
   "source": [
    "len(school_list)"
   ]
  },
  {
   "cell_type": "code",
   "execution_count": 9,
   "metadata": {},
   "outputs": [
    {
     "name": "stdout",
     "output_type": "stream",
     "text": [
      "['CAAN Academy of Nursing', 'Central School of Practical Nursing', 'Med-Life Institute-Naples', 'Universal Career School', 'GDS Institute', 'Careers Unlimited', 'Neighborhood Playhouse School of the Theater', 'M T Training Center', 'ASI Career Institute', 'Medical Institute of Palm Beach', 'Manhattan Institute', 'Ukiah Adult School', 'Selma University', 'Astrodome Career Centers', 'Capri Beauty College', 'Profile Institute of Barber-Styling', 'Universal College of Healing Arts', 'W F Kaynor Technical High School', 'Harvard University', \"David's Academy of Beauty\"]\n"
     ]
    }
   ],
   "source": [
    "print(school_list)"
   ]
  },
  {
   "cell_type": "code",
   "execution_count": 10,
   "metadata": {},
   "outputs": [],
   "source": [
    "ethnicity_list = []\n",
    "completion_list = []\n",
    "\n",
    "ethnicitys = ['black','black_non_hispanic','hispanic','asian','asian_pacific_islander','white','white_non_hispanic']\n",
    "\n",
    "for response in response_json:\n",
    "    for  schools in school_list:\n",
    "        for ethnicity in ethnicitys:\n",
    "            completion_rate = response_json[\"results\"][num][\"latest.student.demographics.race_ethnicity.\"+ethnicity]\n",
    "            num =+1\n",
    "            ethnicity_list.append(ethnicity)\n",
    "            completion_list.append(completion_rate)"
   ]
  },
  {
   "cell_type": "code",
   "execution_count": 11,
   "metadata": {},
   "outputs": [
    {
     "data": {
      "text/plain": [
       "280"
      ]
     },
     "execution_count": 11,
     "metadata": {},
     "output_type": "execute_result"
    }
   ],
   "source": [
    "len(ethnicity_list)"
   ]
  },
  {
   "cell_type": "code",
   "execution_count": 12,
   "metadata": {},
   "outputs": [
    {
     "data": {
      "text/plain": [
       "280"
      ]
     },
     "execution_count": 12,
     "metadata": {},
     "output_type": "execute_result"
    }
   ],
   "source": [
    "len(completion_list)"
   ]
  },
  {
   "cell_type": "code",
   "execution_count": 13,
   "metadata": {},
   "outputs": [
    {
     "data": {
      "text/plain": [
       "'https://api.data.gov/ed/collegescorecard/v1/schools.json?school.name=San Jose State University&_fields=school.name&api_key=dhgQf6KtNBkVRiiATJzUl86EZUOwzS5vNehyPfXR'"
      ]
     },
     "execution_count": 13,
     "metadata": {},
     "output_type": "execute_result"
    }
   ],
   "source": [
    "url = 'https://api.data.gov/ed/collegescorecard/v1/schools.json?'\n",
    "search = 'fields=school.name,id,latest.student.demographics.race_ethnicity.white,latest.student.demographics.race_ethnicity.black,latest.student.demographics.race_ethnicity.hispanic,latest.student.demographics.race_ethnicity.asian,latest.student.demographics.race_ethnicity.aian,latest.student.demographics.race_ethnicity.nhpi,latest.student.demographics.race_ethnicity.two_or_more,latest.student.demographics.race_ethnicity.non_resident_alien,latest.student.demographics.race_ethnicity.unknown,latest.student.demographics.race_ethnicity.white_non_hispanic,latest.student.demographics.race_ethnicity.black_non_hispanic,latest.student.demographics.race_ethnicity.asian_pacific_islander&sort=latest.completion.rate_suppressed.overall:desc'\n",
    "\n",
    "link = url + \"school.\" + \"name=San Jose State University&_fields=school.name\" + '&api_key=' + api_key\n",
    "link"
   ]
  },
  {
   "cell_type": "code",
   "execution_count": 14,
   "metadata": {},
   "outputs": [
    {
     "data": {
      "text/plain": [
       "{'metadata': {'total': 1, 'page': 0, 'per_page': 20},\n",
       " 'results': [{'school.name': 'San Jose State University'}]}"
      ]
     },
     "execution_count": 14,
     "metadata": {},
     "output_type": "execute_result"
    }
   ],
   "source": [
    "responsez = requests.get(link)\n",
    "responsez_json = responsez.json()\n",
    "responsez_json"
   ]
  },
  {
   "cell_type": "code",
   "execution_count": 15,
   "metadata": {},
   "outputs": [
    {
     "data": {
      "text/plain": [
       "'\"\\nkent\\'s code\\nurl = \\'https://api.data.gov/ed/collegescorecard/v1/schools.json?\\'\\napi_key = \\'i3ksZKWIKWfDzhHPqbJzpqwAXjOPFnGmfDPZ0ufr\\'\\nsearch = \\'school.degrees_awarded.predominant=2,3&_fields=id,school.name,2013.student.size\\'\\n\\nurl_link = url + search + \\'&api_key=\\' + api_key\\n\\nurl_link\\nresponse = requests.get(url_link)\\n\\nresponse_json = response.json()\\n\\nresponse_json'"
      ]
     },
     "execution_count": 15,
     "metadata": {},
     "output_type": "execute_result"
    }
   ],
   "source": [
    "\"\"\"\"\n",
    "kent's code\n",
    "url = 'https://api.data.gov/ed/collegescorecard/v1/schools.json?'\n",
    "api_key = 'i3ksZKWIKWfDzhHPqbJzpqwAXjOPFnGmfDPZ0ufr'\n",
    "search = 'school.degrees_awarded.predominant=2,3&_fields=id,school.name,2013.student.size'\n",
    "\n",
    "url_link = url + search + '&api_key=' + api_key\n",
    "\n",
    "url_link\n",
    "response = requests.get(url_link)\n",
    "\n",
    "response_json = response.json()\n",
    "\n",
    "response_json\"\"\""
   ]
  },
  {
   "cell_type": "code",
   "execution_count": 16,
   "metadata": {},
   "outputs": [
    {
     "ename": "SyntaxError",
     "evalue": "invalid syntax (<ipython-input-16-04fec5c6611c>, line 1)",
     "output_type": "error",
     "traceback": [
      "\u001b[1;36m  File \u001b[1;32m\"<ipython-input-16-04fec5c6611c>\"\u001b[1;36m, line \u001b[1;32m1\u001b[0m\n\u001b[1;33m    https://api.data.gov/ed/collegescorecard/v1/schools?fields=school.name,id,\u001b[0m\n\u001b[1;37m           ^\u001b[0m\n\u001b[1;31mSyntaxError\u001b[0m\u001b[1;31m:\u001b[0m invalid syntax\n"
     ]
    }
   ],
   "source": [
    "https://api.data.gov/ed/collegescorecard/v1/schools?fields=school.name,id,\n",
    "    latest.student.demographics.race_ethnicity.white,\n",
    "    latest.student.demographics.race_ethnicity.black,\n",
    "    latest.student.demographics.race_ethnicity.hispanic,latest.student.demographics.race_ethnicity.asian,\n",
    "    latest.student.demographics.race_ethnicity.aian,\n",
    "    latest.student.demographics.race_ethnicity.nhpi,\n",
    "    latest.student.demographics.race_ethnicity.two_or_more,\n",
    "    latest.student.demographics.race_ethnicity.non_resident_alien,\n",
    "    latest.student.demographics.race_ethnicity.unknown,\n",
    "    latest.student.demographics.race_ethnicity.white_non_hispanic,\n",
    "    latest.student.demographics.race_ethnicity.black_non_hispanic,\n",
    "    latest.student.demographics.race_ethnicity.asian_pacific_islander&sort=latest.completion.rate_suppressed.overall:desc"
   ]
  },
  {
   "cell_type": "code",
   "execution_count": 17,
   "metadata": {},
   "outputs": [],
   "source": [
    "#kent data part 2 - deeper understanding of query link\n",
    "api_key = \"dhgQf6KtNBkVRiiATJzUl86EZUOwzS5vNehyPfXR\"\n",
    "urlz = 'https://api.data.gov/ed/collegescorecard/v1/schools.json?'\n",
    "search = 'school.degrees_awarded.predominant=3&_fields=id,school.name,2013.student.size'\n",
    "#example: search = 'fields=school.name,id,latest.student.demographics.race_ethnicity.white,latest.student.demographics.race_ethnicity.black,latest.student.demographics.race_ethnicity.hispanic,latest.student.demographics.race_ethnicity.asian,latest.student.demographics.race_ethnicity.aian,latest.student.demographics.race_ethnicity.nhpi,latest.student.demographics.race_ethnicity.two_or_more,latest.student.demographics.race_ethnicity.non_resident_alien,latest.student.demographics.race_ethnicity.unknown,latest.student.demographics.race_ethnicity.white_non_hispanic,latest.student.demographics.race_ethnicity.black_non_hispanic,latest.student.demographics.race_ethnicity.asian_pacific_islander&sort=latest.completion.rate_suppressed.overall:desc'\n",
    "\n",
    "search2 = 'school.region_id=8&school.degrees_awarded.predominant=3&_fields=id,school.name,latest.cost.tuition.in_state,school.region_id,latest.earnings.10_yrs_after_entry.median,latest.earnings.6_yrs_after_entry.median&page=2'\n",
    "\n",
    "\n",
    "\n",
    "url_1 = url +search + '&api_key=' + api_key\n",
    "\n",
    "url_2 = url + search2 + '&api_key=' + api_key\n",
    "\n"
   ]
  },
  {
   "cell_type": "code",
   "execution_count": 60,
   "metadata": {},
   "outputs": [
    {
     "name": "stdout",
     "output_type": "stream",
     "text": [
      "https://api.data.gov/ed/collegescorecard/v1/schools.json?school.region_id=8&school.degrees_awarded.predominant=3&_fields=id,school.name,latest.cost.tuition.in_state,school.region_id,latest.earnings.10_yrs_after_entry.median,latest.earnings.6_yrs_after_entry.median&page=2&api_key=dhgQf6KtNBkVRiiATJzUl86EZUOwzS5vNehyPfXR\n"
     ]
    }
   ],
   "source": [
    "#json for schools and school ids\n",
    "respo = requests.get(url_1)\n",
    "respo_json_1 = respo.json()\n",
    "#respo_json_1\n",
    "print(url_2)"
   ]
  },
  {
   "cell_type": "code",
   "execution_count": 19,
   "metadata": {},
   "outputs": [
    {
     "data": {
      "text/plain": [
       "{'metadata': {'total': 242, 'page': 2, 'per_page': 20},\n",
       " 'results': [{'school.name': 'San Francisco State University',\n",
       "   'school.region_id': 8,\n",
       "   'latest.earnings.10_yrs_after_entry.median': 49200,\n",
       "   'id': 122597,\n",
       "   'latest.earnings.6_yrs_after_entry.median': 38000,\n",
       "   'latest.cost.tuition.in_state': 6484},\n",
       "  {'school.name': 'Westmont College',\n",
       "   'school.region_id': 8,\n",
       "   'latest.earnings.10_yrs_after_entry.median': 51400,\n",
       "   'id': 125727,\n",
       "   'latest.earnings.6_yrs_after_entry.median': 35600,\n",
       "   'latest.cost.tuition.in_state': 42900},\n",
       "  {'school.name': 'Woodbury University',\n",
       "   'school.region_id': 8,\n",
       "   'latest.earnings.10_yrs_after_entry.median': 48200,\n",
       "   'id': 125897,\n",
       "   'latest.earnings.6_yrs_after_entry.median': 34800,\n",
       "   'latest.cost.tuition.in_state': 37906},\n",
       "  {'school.name': 'Concordia University-Portland',\n",
       "   'school.region_id': 8,\n",
       "   'latest.earnings.10_yrs_after_entry.median': 43300,\n",
       "   'id': 208488,\n",
       "   'latest.earnings.6_yrs_after_entry.median': 38900,\n",
       "   'latest.cost.tuition.in_state': 29390},\n",
       "  {'school.name': 'Pacific University',\n",
       "   'school.region_id': 8,\n",
       "   'latest.earnings.10_yrs_after_entry.median': 46600,\n",
       "   'id': 209612,\n",
       "   'latest.earnings.6_yrs_after_entry.median': 33400,\n",
       "   'latest.cost.tuition.in_state': 41054},\n",
       "  {'school.name': 'University of Portland',\n",
       "   'school.region_id': 8,\n",
       "   'latest.earnings.10_yrs_after_entry.median': 58800,\n",
       "   'id': 209825,\n",
       "   'latest.earnings.6_yrs_after_entry.median': 53800,\n",
       "   'latest.cost.tuition.in_state': 44104},\n",
       "  {'school.name': 'Reed College',\n",
       "   'school.region_id': 8,\n",
       "   'latest.earnings.10_yrs_after_entry.median': 42200,\n",
       "   'id': 209922,\n",
       "   'latest.earnings.6_yrs_after_entry.median': 30400,\n",
       "   'latest.cost.tuition.in_state': 52150},\n",
       "  {'school.name': 'The Art Institute of Las Vegas',\n",
       "   'school.region_id': 8,\n",
       "   'latest.earnings.10_yrs_after_entry.median': 29400,\n",
       "   'id': 182111,\n",
       "   'latest.earnings.6_yrs_after_entry.median': 25800,\n",
       "   'latest.cost.tuition.in_state': 17413},\n",
       "  {'school.name': 'University of Nevada-Las Vegas',\n",
       "   'school.region_id': 8,\n",
       "   'latest.earnings.10_yrs_after_entry.median': 45000,\n",
       "   'id': 182281,\n",
       "   'latest.earnings.6_yrs_after_entry.median': 36500,\n",
       "   'latest.cost.tuition.in_state': 7183},\n",
       "  {'school.name': 'New Hope Christian College-Eugene',\n",
       "   'school.region_id': 8,\n",
       "   'latest.earnings.10_yrs_after_entry.median': 29500,\n",
       "   'id': 208725,\n",
       "   'latest.cost.tuition.in_state': 14230,\n",
       "   'latest.earnings.6_yrs_after_entry.median': None},\n",
       "  {'school.name': 'George Fox University',\n",
       "   'school.region_id': 8,\n",
       "   'latest.earnings.10_yrs_after_entry.median': 45100,\n",
       "   'id': 208822,\n",
       "   'latest.earnings.6_yrs_after_entry.median': 36200,\n",
       "   'latest.cost.tuition.in_state': 33730},\n",
       "  {'school.name': 'Linfield College-McMinnville Campus',\n",
       "   'school.region_id': 8,\n",
       "   'latest.earnings.10_yrs_after_entry.median': 55200,\n",
       "   'id': 209065,\n",
       "   'latest.earnings.6_yrs_after_entry.median': 47300,\n",
       "   'latest.cost.tuition.in_state': 40175},\n",
       "  {'school.name': 'Marylhurst University',\n",
       "   'school.region_id': 8,\n",
       "   'latest.earnings.10_yrs_after_entry.median': 35300,\n",
       "   'id': 209108,\n",
       "   'latest.earnings.6_yrs_after_entry.median': 36600,\n",
       "   'latest.cost.tuition.in_state': 20835},\n",
       "  {'school.name': 'Oregon State University',\n",
       "   'school.region_id': 8,\n",
       "   'latest.earnings.10_yrs_after_entry.median': 49600,\n",
       "   'id': 209542,\n",
       "   'latest.earnings.6_yrs_after_entry.median': 37700,\n",
       "   'latest.cost.tuition.in_state': 10366},\n",
       "  {'school.name': 'Hawaii Pacific University',\n",
       "   'school.region_id': 8,\n",
       "   'latest.earnings.10_yrs_after_entry.median': 49900,\n",
       "   'id': 141644,\n",
       "   'latest.earnings.6_yrs_after_entry.median': 35600,\n",
       "   'latest.cost.tuition.in_state': 23440},\n",
       "  {'school.name': \"Saint Mary's College of California\",\n",
       "   'school.region_id': 8,\n",
       "   'latest.earnings.10_yrs_after_entry.median': 56300,\n",
       "   'id': 123554,\n",
       "   'latest.earnings.6_yrs_after_entry.median': 44600,\n",
       "   'latest.cost.tuition.in_state': 44360},\n",
       "  {'school.name': 'Pitzer College',\n",
       "   'school.region_id': 8,\n",
       "   'latest.earnings.10_yrs_after_entry.median': 48700,\n",
       "   'id': 121257,\n",
       "   'latest.earnings.6_yrs_after_entry.median': 33900,\n",
       "   'latest.cost.tuition.in_state': 50430},\n",
       "  {'school.name': 'Santa Clara University',\n",
       "   'school.region_id': 8,\n",
       "   'latest.earnings.10_yrs_after_entry.median': 72600,\n",
       "   'id': 122931,\n",
       "   'latest.earnings.6_yrs_after_entry.median': 61100,\n",
       "   'latest.cost.tuition.in_state': 47112},\n",
       "  {'school.name': 'Vanguard University of Southern California',\n",
       "   'school.region_id': 8,\n",
       "   'latest.earnings.10_yrs_after_entry.median': 41800,\n",
       "   'id': 123651,\n",
       "   'latest.earnings.6_yrs_after_entry.median': 34700,\n",
       "   'latest.cost.tuition.in_state': 31430},\n",
       "  {'school.name': 'University of Southern California',\n",
       "   'school.region_id': 8,\n",
       "   'latest.earnings.10_yrs_after_entry.median': 74000,\n",
       "   'id': 123961,\n",
       "   'latest.earnings.6_yrs_after_entry.median': 53800,\n",
       "   'latest.cost.tuition.in_state': 52283}]}"
      ]
     },
     "execution_count": 19,
     "metadata": {},
     "output_type": "execute_result"
    }
   ],
   "source": [
    "#json for annual tuition\n",
    "respo = requests.get(url_2)\n",
    "respo_json_2 = respo.json()\n",
    "respo_json_2 "
   ]
  },
  {
   "cell_type": "code",
   "execution_count": 20,
   "metadata": {},
   "outputs": [
    {
     "data": {
      "text/plain": [
       "20"
      ]
     },
     "execution_count": 20,
     "metadata": {},
     "output_type": "execute_result"
    }
   ],
   "source": [
    "len(respo_json_2[\"results\"])"
   ]
  },
  {
   "cell_type": "code",
   "execution_count": 21,
   "metadata": {},
   "outputs": [
    {
     "data": {
      "text/plain": [
       "'San Francisco State University'"
      ]
     },
     "execution_count": 21,
     "metadata": {},
     "output_type": "execute_result"
    }
   ],
   "source": [
    "respo_json_2['results'][0][\"school.name\"]"
   ]
  },
  {
   "cell_type": "code",
   "execution_count": 63,
   "metadata": {},
   "outputs": [],
   "source": [
    "school_list = []\n",
    "\n",
    "for response in response_json:\n",
    "    for num in range(0,20):\n",
    "        school_name = response_json[\"results\"][num]['school.name']\n",
    "        if school_name not in school_list:\n",
    "            school_list.append(school_name)"
   ]
  },
  {
   "cell_type": "code",
   "execution_count": 81,
   "metadata": {},
   "outputs": [
    {
     "data": {
      "text/plain": [
       "['The Art Institute of Wisconsin',\n",
       " 'Carver Bible College',\n",
       " 'Criswell College',\n",
       " 'Chamberlain University-Georgia',\n",
       " 'Kaplan University-Milwaukee',\n",
       " 'University of North Texas at Dallas',\n",
       " 'University of Phoenix-Arkansas',\n",
       " 'Trine University-Arizona Regional Campus',\n",
       " 'University of Phoenix-Florida',\n",
       " 'University of Phoenix-Michigan',\n",
       " 'University of Phoenix-Oklahoma',\n",
       " 'West Coast University-Miami',\n",
       " 'University of Phoenix-Virginia',\n",
       " 'Hope College of Arts and Sciences',\n",
       " 'Antioch College',\n",
       " 'California Jazz Conservatory',\n",
       " 'Chamberlain University-Nevada',\n",
       " 'Hussian College-Relativity Campus California',\n",
       " 'Arizona College-Las Vegas',\n",
       " 'Faith Theological Seminary',\n",
       " 'California University of Management and Sciences',\n",
       " 'Mid-South Christian College',\n",
       " 'Gemini School of Visual Arts & Communication',\n",
       " 'Grace Mission University',\n",
       " 'Virginia Baptist College',\n",
       " 'DeVry University-Missouri',\n",
       " 'DeVry University-North Carolina',\n",
       " 'DeVry University-Pennsylvania',\n",
       " 'Yeshiva Yesodei Hatorah',\n",
       " 'DeVry University-Texas',\n",
       " 'The Art Institute of St Louis',\n",
       " 'DeVry University-Arizona',\n",
       " 'Middle Georgia State University',\n",
       " 'Northeastern University Professional Advancement Network',\n",
       " 'DeVry University-Georgia',\n",
       " 'Catholic Distance University',\n",
       " 'The Art Institute of San Antonio',\n",
       " 'South University-Virginia Beach',\n",
       " 'Yeshiva Gedolah Zichron Leyma',\n",
       " 'South University-Cleveland',\n",
       " 'Colorado State University-Global Campus',\n",
       " 'Warner Pacific College Adult Degree Program',\n",
       " 'Northeast Catholic College',\n",
       " 'Huntsville Bible College',\n",
       " 'Bais Medrash Toras Chesed',\n",
       " 'The Art Institutes International-Kansas City',\n",
       " 'Ottawa University-Online',\n",
       " 'Roseman University of Health Sciences',\n",
       " 'The Art Institute of Charleston',\n",
       " 'South University-Tampa',\n",
       " 'Argosy University-Nashville',\n",
       " 'Argosy University-The Art Institute of California-Silicon Valley',\n",
       " 'Yeshiva Toras Chaim',\n",
       " 'Chamberlain University-Arizona',\n",
       " 'University of Phoenix-Connecticut',\n",
       " 'Carolina Christian College',\n",
       " 'Argosy University-Dallas',\n",
       " 'National American University-Overland Park',\n",
       " 'Fairleigh Dickinson University-Florham Campus',\n",
       " 'Charlotte Christian College and Theological Seminary',\n",
       " 'Baptist University of the Americas',\n",
       " 'Neumont College of Computer Science',\n",
       " \"Yeshiva D'monsey Rabbinical College\",\n",
       " 'The University of Alabama',\n",
       " 'University of West Alabama',\n",
       " 'Ottawa University-Phoenix',\n",
       " 'Harding University',\n",
       " 'Biola University',\n",
       " 'Marymount California University',\n",
       " \"The Master's University and Seminary\",\n",
       " 'Notre Dame de Namur University',\n",
       " 'Occidental College',\n",
       " 'Hope International University',\n",
       " 'University of South Florida-Main Campus',\n",
       " 'Georgia College & State University',\n",
       " 'Georgia Southern University',\n",
       " 'Clayton  State University',\n",
       " 'Clark Atlanta University',\n",
       " 'Augustana College',\n",
       " 'The College of Idaho',\n",
       " 'University of Hawaii at Manoa',\n",
       " 'Savannah College of Art and Design',\n",
       " 'Thomas University',\n",
       " 'Truett McConnell University',\n",
       " 'University of Hawaii-West Oahu',\n",
       " 'American Academy of Art',\n",
       " 'Valdosta State University',\n",
       " 'University of West Georgia',\n",
       " 'Hebrew Theological College',\n",
       " 'Knox College',\n",
       " 'University of Illinois at Urbana-Champaign',\n",
       " 'Lake Forest College',\n",
       " 'Illinois College',\n",
       " 'Lincoln Christian University',\n",
       " 'Northwestern University',\n",
       " 'Saint Xavier University',\n",
       " 'University of Illinois at Springfield',\n",
       " 'Trinity International University-Illinois',\n",
       " 'Millikin University',\n",
       " 'The Illinois Institute of Art-Chicago',\n",
       " 'Roosevelt University',\n",
       " 'Rush University',\n",
       " 'Yeshivas Novominsk',\n",
       " 'Alabama A & M University',\n",
       " 'Tuskegee University',\n",
       " 'Alabama State University',\n",
       " 'University of Alaska Fairbanks',\n",
       " 'Birmingham Southern College',\n",
       " 'Judson College',\n",
       " 'University of South Alabama',\n",
       " 'Spring Hill College',\n",
       " 'Southeastern Bible College',\n",
       " 'Grand Canyon University',\n",
       " 'Arizona State University-Tempe',\n",
       " 'University of Central Arkansas',\n",
       " 'Art Center College of Design',\n",
       " 'Williams Baptist College',\n",
       " 'John Brown University',\n",
       " 'California State University-Sacramento',\n",
       " 'University of California-Davis',\n",
       " 'University of California-Riverside',\n",
       " 'University of California-Santa Cruz',\n",
       " 'Life Pacific College',\n",
       " 'University of Arkansas',\n",
       " 'Arkansas Tech University',\n",
       " 'Henderson State University',\n",
       " 'California Baptist University',\n",
       " 'California Institute of Technology',\n",
       " 'California Institute of the Arts',\n",
       " 'San Diego Christian College',\n",
       " 'California State University-Dominguez Hills',\n",
       " 'California State University-East Bay',\n",
       " 'Cogswell College',\n",
       " 'La Sierra University',\n",
       " 'Simpson University',\n",
       " 'San Francisco Art Institute',\n",
       " 'San Francisco State University',\n",
       " 'Westmont College',\n",
       " 'Woodbury University',\n",
       " 'Colorado Technical University-Colorado Springs',\n",
       " 'Nazarene Bible College',\n",
       " 'University of Northern Colorado',\n",
       " 'University of Colorado Boulder',\n",
       " 'University of New Haven',\n",
       " 'Western State Colorado University',\n",
       " 'Wesleyan University',\n",
       " 'Yale University',\n",
       " 'Holy Apostles College and Seminary',\n",
       " 'University of Bridgeport',\n",
       " 'Central Connecticut State University',\n",
       " 'Luther Rice College & Seminary',\n",
       " 'The University of Tampa',\n",
       " 'Case Western Reserve University',\n",
       " 'Heidelberg University',\n",
       " 'John Carroll University',\n",
       " 'Malone University',\n",
       " 'University of Science and Arts of Oklahoma',\n",
       " 'Southern Nazarene University',\n",
       " 'University of Oklahoma-Health Sciences Center',\n",
       " 'Oklahoma City University',\n",
       " 'Concordia University-Portland',\n",
       " 'Oral Roberts University',\n",
       " 'Alvernia University',\n",
       " 'Pacific University',\n",
       " 'Cheyney University of Pennsylvania',\n",
       " 'Arcadia University',\n",
       " 'Bloomsburg University of Pennsylvania',\n",
       " 'University of Portland',\n",
       " 'Reed College',\n",
       " 'La Roche College',\n",
       " 'Lafayette College',\n",
       " 'Lincoln University',\n",
       " 'Moore College of Art and Design',\n",
       " 'Muhlenberg College',\n",
       " 'Pennsylvania State University-Penn State Beaver',\n",
       " 'Lycoming College',\n",
       " 'The University of the Arts',\n",
       " 'Pennsylvania State University-Penn State New Kensington',\n",
       " 'Susquehanna University',\n",
       " 'Saint Vincent College']"
      ]
     },
     "execution_count": 81,
     "metadata": {},
     "output_type": "execute_result"
    }
   ],
   "source": [
    "schools_list = []\n",
    "\n",
    "for page in range (1,10):\n",
    "           search_url = f'{url}{search}&page={page}&api_key=i3ksZKWIKWfDzhHPqbJzpqwAXjOPFnGmfDPZ0ufr'\n",
    "           response = requests.get(search_url)\n",
    "           response_json = response.json()\n",
    "           for num in range(0,20):\n",
    "               school_name = response_json['results'][num]['school.name']\n",
    "               if school_name not in schools_list:\n",
    "                   schools_list.append(school_name)\n",
    "\n",
    "schools_list\n"
   ]
  },
  {
   "cell_type": "code",
   "execution_count": 64,
   "metadata": {},
   "outputs": [
    {
     "data": {
      "text/plain": [
       "['San Francisco State University',\n",
       " 'Westmont College',\n",
       " 'Woodbury University',\n",
       " 'Concordia University-Portland',\n",
       " 'Pacific University',\n",
       " 'University of Portland',\n",
       " 'Reed College',\n",
       " 'The Art Institute of Las Vegas',\n",
       " 'University of Nevada-Las Vegas',\n",
       " 'New Hope Christian College-Eugene',\n",
       " 'George Fox University',\n",
       " 'Linfield College-McMinnville Campus',\n",
       " 'Marylhurst University',\n",
       " 'Oregon State University',\n",
       " 'Hawaii Pacific University',\n",
       " \"Saint Mary's College of California\",\n",
       " 'Pitzer College',\n",
       " 'Santa Clara University',\n",
       " 'Vanguard University of Southern California',\n",
       " 'University of Southern California']"
      ]
     },
     "execution_count": 64,
     "metadata": {},
     "output_type": "execute_result"
    }
   ],
   "source": [
    "schools_list"
   ]
  },
  {
   "cell_type": "code",
   "execution_count": 53,
   "metadata": {},
   "outputs": [
    {
     "data": {
      "text/plain": [
       "6484"
      ]
     },
     "execution_count": 53,
     "metadata": {},
     "output_type": "execute_result"
    }
   ],
   "source": [
    "respo_json_2['results'][0][\"latest.cost.tuition.in_state\"]"
   ]
  },
  {
   "cell_type": "code",
   "execution_count": 55,
   "metadata": {},
   "outputs": [],
   "source": [
    "tuition_list = []\n",
    "\n",
    "for response in respo_json_2:\n",
    "    for num in range(0,20):\n",
    "        tuition = respo_json_2[\"results\"][num]['latest.cost.tuition.in_state']\n",
    "        if tuition not in tuition_list:\n",
    "            tuition_list.append(tuition)"
   ]
  },
  {
   "cell_type": "code",
   "execution_count": 56,
   "metadata": {},
   "outputs": [
    {
     "data": {
      "text/plain": [
       "[6484,\n",
       " 42900,\n",
       " 37906,\n",
       " 29390,\n",
       " 41054,\n",
       " 44104,\n",
       " 52150,\n",
       " 17413,\n",
       " 7183,\n",
       " 14230,\n",
       " 33730,\n",
       " 40175,\n",
       " 20835,\n",
       " 10366,\n",
       " 23440,\n",
       " 44360,\n",
       " 50430,\n",
       " 47112,\n",
       " 31430,\n",
       " 52283]"
      ]
     },
     "execution_count": 56,
     "metadata": {},
     "output_type": "execute_result"
    }
   ],
   "source": [
    "tuition_list"
   ]
  },
  {
   "cell_type": "code",
   "execution_count": null,
   "metadata": {},
   "outputs": [],
   "source": [
    "earning_10years = []\n",
    "\n",
    "for response in respo_json_2:\n",
    "    for num in range(0,20):\n",
    "        earnings = respo_json_2[\"results\"][num]['latest.cost.tuition.in_state']\n",
    "        if earnings not in earning_10years:\n",
    "            earning_10years.append(earnings)"
   ]
  }
 ],
 "metadata": {
  "kernelspec": {
   "display_name": "Python 3",
   "language": "python",
   "name": "python3"
  },
  "language_info": {
   "codemirror_mode": {
    "name": "ipython",
    "version": 3
   },
   "file_extension": ".py",
   "mimetype": "text/x-python",
   "name": "python",
   "nbconvert_exporter": "python",
   "pygments_lexer": "ipython3",
   "version": "3.6.6"
  }
 },
 "nbformat": 4,
 "nbformat_minor": 2
}
